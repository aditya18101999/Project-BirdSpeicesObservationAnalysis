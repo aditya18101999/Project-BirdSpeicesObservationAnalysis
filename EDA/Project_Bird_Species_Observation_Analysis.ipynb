{
  "nbformat": 4,
  "nbformat_minor": 0,
  "metadata": {
    "colab": {
      "private_outputs": true,
      "provenance": [],
      "collapsed_sections": [
        "vncDsAP0Gaoa",
        "FJNUwmbgGyua",
        "w6K7xa23Elo4",
        "yQaldy8SH6Dl",
        "PH-0ReGfmX4f",
        "mDgbUHAGgjLW",
        "O_i_v8NEhb9l",
        "HhfV-JJviCcP",
        "Y3lxredqlCYt",
        "3RnN4peoiCZX",
        "x71ZqKXriCWQ",
        "7hBIi_osiCS2",
        "JlHwYmJAmNHm",
        "35m5QtbWiB9F",
        "PoPl-ycgm1ru",
        "H0kj-8xxnORC",
        "nA9Y7ga8ng1Z",
        "PBTbrJXOngz2",
        "u3PMJOP6ngxN",
        "dauF4eBmngu3",
        "bKJF3rekwFvQ",
        "MSa1f5Uengrz",
        "GF8Ens_Soomf",
        "0wOQAZs5pc--",
        "K5QZ13OEpz2H",
        "lQ7QKXXCp7Bj",
        "448CDAPjqfQr",
        "KSlN3yHqYklG",
        "t6dVpIINYklI",
        "ijmpgYnKYklI",
        "-JiQyfWJYklI",
        "EM7whBJCYoAo",
        "fge-S5ZAYoAp",
        "85gYPyotYoAp",
        "RoGjAbkUYoAp",
        "4Of9eVA-YrdM",
        "iky9q4vBYrdO",
        "F6T5p64dYrdO",
        "y-Ehk30pYrdP",
        "bamQiAODYuh1",
        "QHF8YVU7Yuh3",
        "GwzvFGzlYuh3",
        "qYpmQ266Yuh3",
        "OH-pJp9IphqM",
        "bbFf2-_FphqN",
        "_ouA3fa0phqN",
        "Seke61FWphqN",
        "PIIx-8_IphqN",
        "t27r6nlMphqO",
        "r2jJGEOYphqO",
        "b0JNsNcRphqO",
        "BZR9WyysphqO",
        "jj7wYXLtphqO",
        "eZrbJ2SmphqO",
        "rFu4xreNphqO",
        "YJ55k-q6phqO",
        "gCFgpxoyphqP",
        "OVtJsKN_phqQ",
        "lssrdh5qphqQ",
        "U2RJ9gkRphqQ",
        "1M8mcRywphqQ",
        "tgIPom80phqQ",
        "JMzcOPDDphqR",
        "x-EpHcCOp1ci",
        "X_VqEhTip1ck",
        "8zGJKyg5p1ck",
        "PVzmfK_Ep1ck",
        "n3dbpmDWp1ck",
        "ylSl6qgtp1ck",
        "ZWILFDl5p1ck",
        "M7G43BXep1ck",
        "Ag9LCva-p1cl",
        "E6MkPsBcp1cl",
        "2cELzS2fp1cl",
        "3MPXvC8up1cl",
        "NC_X3p0fY2L0",
        "UV0SzAkaZNRQ",
        "YPEH6qLeZNRQ",
        "q29F0dvdveiT",
        "EXh0U9oCveiU",
        "22aHeOlLveiV",
        "JcMwzZxoAimU",
        "8G2x9gOozGDZ",
        "gCX9965dhzqZ",
        "gIfDvo9L0UH2"
      ]
    },
    "kernelspec": {
      "name": "python3",
      "display_name": "Python 3"
    },
    "language_info": {
      "name": "python"
    }
  },
  "cells": [
    {
      "cell_type": "markdown",
      "source": [
        "# **Project Name**    - Bird Species Observation Analysis\n",
        "\n"
      ],
      "metadata": {
        "id": "vncDsAP0Gaoa"
      }
    },
    {
      "cell_type": "markdown",
      "source": [
        "##### **Project Type**    - Observation Analysis\n",
        "##### **Contribution**    - Individual\n",
        "##### **Team Member 1 -** Aditya Anilkumar\n"
      ],
      "metadata": {
        "id": "beRrZCGUAJYm"
      }
    },
    {
      "cell_type": "markdown",
      "source": [
        "# **1. Project Summary -**"
      ],
      "metadata": {
        "id": "FJNUwmbgGyua"
      }
    },
    {
      "cell_type": "markdown",
      "source": [
        "The project has three main objectives:\n",
        "\n",
        "* *Analyze Bird Distribution*: Examine the distribution of bird species across forest and grassland habitats to identify patterns of habitat preference. This involves studying how different species utilize these distinct ecosystems.\n",
        "\n",
        "* *Assess Habitat Influence*: Evaluate how environmental factors, such as vegetation type, climate, and terrain, influence bird populations and their behavior. The study will assess the impact of these factors on the presence and abundance of specific bird species.\n",
        "\n",
        "* *Evaluate Bird Diversity*: Compare the diversity of bird species in forests versus grasslands to understand how each ecosystem supports different levels of avian richness. This analysis will involve using observational data to quantify and compare species diversity metrics."
      ],
      "metadata": {
        "id": "F6v_1wHtG2nS"
      }
    },
    {
      "cell_type": "markdown",
      "source": [
        "# **GitHub Link -**"
      ],
      "metadata": {
        "id": "w6K7xa23Elo4"
      }
    },
    {
      "cell_type": "markdown",
      "source": [
        "https://github.com/aditya18101999"
      ],
      "metadata": {
        "id": "h1o69JH3Eqqn"
      }
    },
    {
      "cell_type": "markdown",
      "source": [
        "# **2. Problem Statement**\n"
      ],
      "metadata": {
        "id": "yQaldy8SH6Dl"
      }
    },
    {
      "cell_type": "markdown",
      "source": [
        "\n",
        "\n",
        "The project aims to analyze the distribution and diversity of bird species in two distinct ecosystems: forests and grasslands. The objective is to understand how environmental factors such as vegetation type, climate, and terrain influence bird populations and their behavior\n",
        "\n"
      ],
      "metadata": {
        "id": "DpeJGUA3kjGy"
      }
    },
    {
      "cell_type": "markdown",
      "source": [
        "#### **Define Your Business Objective?**"
      ],
      "metadata": {
        "id": "PH-0ReGfmX4f"
      }
    },
    {
      "cell_type": "markdown",
      "source": [
        "The study will use provided observational data of bird species from both ecosystems to identify patterns of habitat preference and assess the impact of these habitats on bird diversity. The project's findings are intended to provide valuable insights for habitat conservation, biodiversity management, and understanding how environmental changes affect avian communities. This analysis will support various business use cases, including wildlife conservation, land management, eco-tourism, and sustainable agriculture, while also providing data-driven insights for policy support and biodiversity monitoring."
      ],
      "metadata": {
        "id": "PhDvGCAqmjP1"
      }
    },
    {
      "cell_type": "markdown",
      "source": [
        "# **General Guidelines** : -  "
      ],
      "metadata": {
        "id": "mDgbUHAGgjLW"
      }
    },
    {
      "cell_type": "markdown",
      "source": [
        "1.   Well-structured, formatted, and commented code is required.\n",
        "2.   Exception Handling, Production Grade Code & Deployment Ready Code will be a plus. Those students will be awarded some additional credits.\n",
        "     \n",
        "     The additional credits will have advantages over other students during Star Student selection.\n",
        "       \n",
        "             [ Note: - Deployment Ready Code is defined as, the whole .ipynb notebook should be executable in one go\n",
        "                       without a single error logged. ]\n",
        "\n",
        "3.   Each and every logic should have proper comments.\n",
        "4. You may add as many number of charts you want. Make Sure for each and every chart the following format should be answered.\n",
        "        \n",
        "\n",
        "```\n",
        "# Chart visualization code\n",
        "```\n",
        "            \n",
        "\n",
        "*   Why did you pick the specific chart?\n",
        "*   What is/are the insight(s) found from the chart?\n",
        "* Will the gained insights help creating a positive business impact?\n",
        "Are there any insights that lead to negative growth? Justify with specific reason.\n",
        "\n",
        "5. You have to create at least 20 logical & meaningful charts having important insights.\n",
        "\n",
        "\n",
        "[ Hints : - Do the Vizualization in  a structured way while following \"UBM\" Rule.\n",
        "\n",
        "U - Univariate Analysis,\n",
        "\n",
        "B - Bivariate Analysis (Numerical - Categorical, Numerical - Numerical, Categorical - Categorical)\n",
        "\n",
        "M - Multivariate Analysis\n",
        " ]\n",
        "\n",
        "\n",
        "\n"
      ],
      "metadata": {
        "id": "ZrxVaUj-hHfC"
      }
    },
    {
      "cell_type": "markdown",
      "source": [
        "# ***Let's Begin !***"
      ],
      "metadata": {
        "id": "O_i_v8NEhb9l"
      }
    },
    {
      "cell_type": "markdown",
      "source": [
        "## ***3. PROJECT SETUP & DATA LOADING***"
      ],
      "metadata": {
        "id": "HhfV-JJviCcP"
      }
    },
    {
      "cell_type": "markdown",
      "source": [
        "### Import Libraries"
      ],
      "metadata": {
        "id": "Y3lxredqlCYt"
      }
    },
    {
      "cell_type": "code",
      "source": [
        "from google.colab import drive\n",
        "drive.mount('/content/drive')"
      ],
      "metadata": {
        "id": "SXHR2a7ywQRa"
      },
      "execution_count": null,
      "outputs": []
    },
    {
      "cell_type": "code",
      "source": [
        "# Import Libraries\n",
        "import pandas as pd\n",
        "import numpy as np\n",
        "import matplotlib.pyplot as plt\n",
        "import seaborn as sns\n",
        "import warnings\n",
        "import glob\n",
        "import os\n",
        "import datetime # Import datetime module\n",
        "warnings.filterwarnings('ignore')"
      ],
      "metadata": {
        "id": "M8Vqi-pPk-HR"
      },
      "execution_count": null,
      "outputs": []
    },
    {
      "cell_type": "markdown",
      "source": [
        "### Dataset Loading"
      ],
      "metadata": {
        "id": "3RnN4peoiCZX"
      }
    },
    {
      "cell_type": "code",
      "source": [
        "# --- Part 1: Load and Concatenate Data ---\n",
        "print(\"--- Step 1: Loading and concatenating data ---\")\n",
        "\n",
        "# Specify the file paths for both Excel files\n",
        "forest_file_path = \"/content/drive/MyDrive/Raw Dataset/Bird_Monitoring_Data_FOREST.XLSX\"\n",
        "grassland_file_path = \"/content/drive/MyDrive/Raw Dataset/Bird_Monitoring_Data_GRASSLAND.XLSX\"\n",
        "\n",
        "# Load data from the Forest Excel file\n",
        "try:\n",
        "    excel_data_forest = pd.ExcelFile(forest_file_path)\n",
        "    sheet_names_forest = excel_data_forest.sheet_names\n",
        "    sheets_dict_forest = {sheet: excel_data_forest.parse(sheet) for sheet in sheet_names_forest}\n",
        "    df_forest = pd.concat(\n",
        "        [df.assign(Sheet=sheet_name, Habitat='Forest') for sheet_name, df in sheets_dict_forest.items()],\n",
        "        ignore_index=True\n",
        "    )\n",
        "except FileNotFoundError:\n",
        "    print(f\"Error: Forest data file not found at {forest_file_path}\")\n",
        "    df_forest = pd.DataFrame() # Create an empty DataFrame if file not found\n",
        "except Exception as e:\n",
        "    print(f\"Error loading forest data: {e}\")\n",
        "    df_forest = pd.DataFrame() # Create an empty DataFrame in case of other errors\n",
        "\n",
        "\n",
        "# Load data from the Grassland Excel file\n",
        "try:\n",
        "    excel_data_grassland = pd.ExcelFile(grassland_file_path)\n",
        "    sheet_names_grassland = excel_data_grassland.sheet_names\n",
        "    sheets_dict_grassland = {sheet: excel_data_grassland.parse(sheet) for sheet in sheet_names_grassland}\n",
        "    df_grassland = pd.concat(\n",
        "        [df.assign(Sheet=sheet_name, Habitat='Grassland') for sheet_name, df in sheets_dict_grassland.items()],\n",
        "        ignore_index=True\n",
        "    )\n",
        "except FileNotFoundError:\n",
        "    print(f\"Error: Grassland data file not found at {grassland_file_path}\")\n",
        "    df_grassland = pd.DataFrame() # Create an empty DataFrame if file not found\n",
        "except Exception as e:\n",
        "    print(f\"Error loading grassland data: {e}\")\n",
        "    df_grassland = pd.DataFrame() # Create an empty DataFrame in case of other errors\n",
        "\n",
        "\n",
        "# Concatenate the dataframes\n",
        "df_combined = pd.concat([df_forest, df_grassland], ignore_index=True)\n",
        "\n",
        "if df_combined.empty:\n",
        "    print(\"No data loaded from either file. The combined DataFrame is empty.\")\n",
        "    exit()\n",
        "\n",
        "# Drop the temporary 'Sheet' column\n",
        "df_combined.drop(columns=['Sheet'], inplace=True)\n",
        "\n",
        "\n",
        "print(f\"Combined DataFrame shape: {df_combined.shape}\")\n",
        "print(\"\\n--- Initial Combined DataFrame Info ---\")\n",
        "df_combined.info()\n",
        "print(\"\\n\" + \"=\"*50 + \"\\n\")"
      ],
      "metadata": {
        "id": "4CkvbW_SlZ_R"
      },
      "execution_count": null,
      "outputs": []
    },
    {
      "cell_type": "markdown",
      "source": [
        "### Dataset First View"
      ],
      "metadata": {
        "id": "x71ZqKXriCWQ"
      }
    },
    {
      "cell_type": "code",
      "source": [
        "# Dataset First Look\n",
        "df_combined.head()"
      ],
      "metadata": {
        "id": "LWNFOSvLl09H"
      },
      "execution_count": null,
      "outputs": []
    },
    {
      "cell_type": "markdown",
      "source": [
        "### Dataset Rows & Columns count"
      ],
      "metadata": {
        "id": "7hBIi_osiCS2"
      }
    },
    {
      "cell_type": "code",
      "source": [
        "# Dataset Rows & Columns count\n",
        "df_combined.shape"
      ],
      "metadata": {
        "id": "Kllu7SJgmLij"
      },
      "execution_count": null,
      "outputs": []
    },
    {
      "cell_type": "markdown",
      "source": [
        "### Data Cleaning and Preprocessing"
      ],
      "metadata": {
        "id": "JlHwYmJAmNHm"
      }
    },
    {
      "cell_type": "markdown",
      "source": [
        "#### Missing Values/Null Values"
      ],
      "metadata": {
        "id": "PoPl-ycgm1ru"
      }
    },
    {
      "cell_type": "code",
      "source": [
        "# Missing Values/Null Values Count\n",
        "# --- Part 2: Data Cleaning and Preprocessing ---\n",
        "print(\"--- Step 2: Data Cleaning and Preprocessing ---\")\n",
        "\n",
        "# Step 2a: Handling Null Values more strategically\n",
        "# Instead of dropping all rows, let's drop columns that are mostly empty and fill others.\n",
        "# First, identify columns with a high percentage of null values.\n",
        "null_counts = df_combined.isnull().sum()\n",
        "total_rows = len(df_combined)\n",
        "null_percentage = (null_counts / total_rows) * 100\n",
        "print(\"Percentage of null values per column:\")\n",
        "print(null_percentage)"
      ],
      "metadata": {
        "id": "GgHWkxvamxVg"
      },
      "execution_count": null,
      "outputs": []
    },
    {
      "cell_type": "code",
      "source": [
        "# Drop columns with a very high percentage of null values (e.g., > 90%)\n",
        "# The previous output shows Sub_Unit_Code, Site_Name, NPSTaxonCode, TaxonCode, Previously_Obs\n",
        "# have many nulls, but some might be useful.\n",
        "# Let's handle them case-by-case.\n",
        "\n",
        "# Fill missing `Sub_Unit_Code`, `Site_Name`, `Sex`, and `Distance` with 'Unknown'\n",
        "df_combined['Sub_Unit_Code'].fillna('Unknown', inplace=True)\n",
        "df_combined['Site_Name'].fillna('Unknown', inplace=True)\n",
        "df_combined['Sex'].fillna('Unknown', inplace=True)\n",
        "df_combined['Distance'].fillna('Unknown', inplace=True)\n",
        "\n",
        "# Drop rows where 'Common_Name' is missing, as this is a key field for analysis\n",
        "df_combined.dropna(subset=['Common_Name'], inplace=True)\n",
        "\n",
        "# Note: The output shows `AcceptedTSN` has some nulls. We can drop these rows as well,\n",
        "# since the data won't be useful without this taxonomic information.\n",
        "df_combined.dropna(subset=['AcceptedTSN'], inplace=True)\n"
      ],
      "metadata": {
        "id": "qHawyGsw4m4z"
      },
      "execution_count": null,
      "outputs": []
    },
    {
      "cell_type": "markdown",
      "source": [
        "#### Dropping unecessary columns"
      ],
      "metadata": {
        "id": "Sa23mwsL4wgp"
      }
    },
    {
      "cell_type": "code",
      "source": [
        "# Step 2b: Dropping unnecessary columns that were causing the problem\n",
        "# Let's drop columns that are redundant or not needed for this analysis.\n",
        "# The user's original code already identified these.\n",
        "columns_to_drop = ['AcceptedTSN', 'NPSTaxonCode', 'AOU_Code', 'TaxonCode', 'Previously_Obs']\n",
        "\n",
        "# Check if columns exist before attempting to drop them\n",
        "existing_columns_to_drop = [col for col in columns_to_drop if col in df_combined.columns]\n",
        "\n",
        "if existing_columns_to_drop:\n",
        "    df_combined.drop(columns=existing_columns_to_drop, axis=1, inplace=True)\n",
        "    print(f\"\\nDropped unnecessary columns: {existing_columns_to_drop}\")\n",
        "else:\n",
        "    print(\"\\nNo specified unnecessary columns found or dropped.\")"
      ],
      "metadata": {
        "id": "FeGzfZJM4vPf"
      },
      "execution_count": null,
      "outputs": []
    },
    {
      "cell_type": "markdown",
      "source": [
        "#### Duplicate Values"
      ],
      "metadata": {
        "id": "35m5QtbWiB9F"
      }
    },
    {
      "cell_type": "code",
      "source": [
        "# Step 2c: Dropping duplicates\n",
        "initial_rows_dup = df_combined.shape[0]\n",
        "df_combined.drop_duplicates(inplace=True)\n",
        "rows_after_dup_drop = df_combined.shape[0]\n",
        "print(f\"\\n--- Dropped Duplicates ---\")\n",
        "print(f\"Removed {initial_rows_dup - rows_after_dup_drop} duplicate rows.\")\n",
        "print(f\"New shape after dropping duplicates: {df_combined.shape}\")"
      ],
      "metadata": {
        "id": "s7KNrT8GxuFO"
      },
      "execution_count": null,
      "outputs": []
    },
    {
      "cell_type": "markdown",
      "source": [
        "#### Standardize Columns & Data Types\n",
        "\n"
      ],
      "metadata": {
        "id": "Z_5Y1ijcpQeM"
      }
    },
    {
      "cell_type": "markdown",
      "source": [
        "  * Ensure datetime columns are parsed\n",
        "\n",
        "  * Strip spaces from categorical fields\n",
        "\n",
        "  * Handle mixed formats (e.g., Interval_Length, Distance)"
      ],
      "metadata": {
        "id": "4IBxNkv45W8A"
      }
    },
    {
      "cell_type": "code",
      "source": [
        "# Step 2d: Converting data types and adding new columns\n",
        "print(\"\\n--- Step 2d: Converting data types and adding new columns ---\")\n",
        "df_combined['Date'] = pd.to_datetime(df_combined['Date'])\n",
        "\n",
        "# Convert 'Start_Time' to timedelta, coercing errors\n",
        "# Convert to string first for robust parsing, handling potential NaNs which become 'NaT' in string\n",
        "df_combined['Start_Time_timedelta'] = pd.to_timedelta(df_combined['Start_Time'].astype(str).str.split('.').str[0], errors='coerce')\n",
        "\n",
        "# Convert 'End_Time' to datetime.time objects, coercing errors\n",
        "df_combined['End_Time'] = pd.to_datetime(df_combined['End_Time'].astype(str), format='%H:%M:%S', errors='coerce').dt.time\n",
        "\n",
        "# Add new columns for easier analysis and visualization\n",
        "df_combined['Observation_Month'] = df_combined['Date'].dt.month\n",
        "df_combined['Observation_Day'] = df_combined['Date'].dt.day\n",
        "\n",
        "# Extract hour from the timedelta, handling potential NaT\n",
        "df_combined['Observation_Hour'] = df_combined['Start_Time_timedelta'].dt.components.hours if 'Start_Time_timedelta' in df_combined.columns else None\n",
        "\n",
        "# Corrected way to combine Date and Time robustly handling NaT values\n",
        "# Add the timedelta to the Date column\n",
        "df_combined['Full_Observation_DateTime'] = df_combined['Date'] + df_combined['Start_Time_timedelta']\n",
        "\n",
        "# Drop the temporary timedelta column\n",
        "df_combined.drop(columns=['Start_Time_timedelta'], inplace=True)\n",
        "\n",
        "print(\"\\n--- Final DataFrame Info after cleaning ---\")\n",
        "df_combined.info()\n",
        "print(\"\\n\" + \"=\"*50 + \"\\n\")\n",
        "\n",
        "print(\"\\n--- Final DataFrame Head ---\")\n",
        "display(df_combined.head())\n",
        "print(f\"Final DataFrame shape: {df_combined.shape}\")"
      ],
      "metadata": {
        "id": "F6v525p35cKA"
      },
      "execution_count": null,
      "outputs": []
    },
    {
      "cell_type": "markdown",
      "source": [
        "### What did you know about your dataset?"
      ],
      "metadata": {
        "id": "H0kj-8xxnORC"
      }
    },
    {
      "cell_type": "markdown",
      "source": [
        "Summary of the Dataset:\n",
        "\n",
        "* The dataset consists of bird species observations recorded across multiple administrative forest and grassland sites.\n",
        "\n",
        "* Data has been collected across multiple years, locations, and environmental conditions, and it includes detailed bird behavioral information.\n",
        "\n",
        "* The data was originally split across multiple Excel sheets, each representing a unique administrative unit (e.g., ANTI, CATO, CHOH, etc.), and has now been consolidated into a single DataFrame with 15,344 clean records and 31 columns.\n",
        "\n",
        "Key insights from the initial analysis:\n",
        "\n",
        "* Total Records After Cleaning: 15,344\n",
        "\n",
        "* Original Records Before Cleaning: 17,077\n",
        "\n",
        "* Duplicates Removed: 1,700\n",
        "\n",
        "* Unnecessary/Incomplete Columns Dropped: 5\n",
        "\n",
        "* The dataset now holds enough quality and structure for robust exploratory, temporal, spatial, and conservation-oriented analyses."
      ],
      "metadata": {
        "id": "gfoNAAC-nUe_"
      }
    },
    {
      "cell_type": "markdown",
      "source": [
        "### Variables Description"
      ],
      "metadata": {
        "id": "PBTbrJXOngz2"
      }
    },
    {
      "cell_type": "markdown",
      "source": [
        "| **Column Name**                 | **Description** |\n",
        "|--------------------------------|-----------------|\n",
        "| `Admin_Unit_Code`              | Administrative unit code (e.g., ANTI, CATO) |\n",
        "| `Sub_Unit_Code`                | Sub-region within the administrative unit |\n",
        "| `Site_Name`                    | Specific name of the observation site |\n",
        "| `Plot_Name`                    | Identifier of the observation plot |\n",
        "| `Location_Type`                | Habitat type: Forest or Grassland |\n",
        "| `Year`, `Date`                 | Year and exact date of observation |\n",
        "| `Start_Time`, `End_Time`       | Time window of bird survey |\n",
        "| `Observer`                     | Name of the person conducting the observation |\n",
        "| `Visit`                        | Number of site visits |\n",
        "| `Interval_Length`             | Time interval of observation |\n",
        "| `ID_Method`                   | How birds were identified (e.g., Singing, Calling) |\n",
        "| `Distance`                    | Distance of the bird from the observer |\n",
        "| `Flyover_Observed`            | Whether the bird was flying overhead |\n",
        "| `Sex`                         | Sex of the bird (Male, Female, Undetermined) |\n",
        "| `Common_Name`, `Scientific_Name` | Bird species identifiers |\n",
        "| `PIF_Watchlist_Status`        | Whether species is of conservation concern |\n",
        "| `Regional_Stewardship_Status` | Region-specific conservation importance |\n",
        "| `Temperature`, `Humidity`     | Environmental conditions during observation |\n",
        "| `Sky`, `Wind`, `Disturbance` | Other weather/environmental conditions |\n",
        "| `Initial_Three_Min_Cnt`       | Count in the first 3 minutes of observation |\n",
        "| `Habitat`                     | Habitat type (duplicated for confirmation) |\n",
        "| `Observation_Month`           | Extracted month from the observation date |\n",
        "| `Observation_Day`             | Extracted day from the observation date |\n",
        "| `Observation_Hour`            | Hour extracted from observation start time |\n",
        "| `Full_Observation_DateTime`   | Combined timestamp of date and time |"
      ],
      "metadata": {
        "id": "aJV4KIxSnxay"
      }
    },
    {
      "cell_type": "markdown",
      "source": [
        "### What all manipulations have you done and insights you found?"
      ],
      "metadata": {
        "id": "noYAgF4x8YYv"
      }
    },
    {
      "cell_type": "markdown",
      "source": [
        "  Data Manipulations Performed\n",
        "\n",
        "#### 1. **Multi-Sheet Data Consolidation**\n",
        "- **What:** Loaded all Excel sheets using `pandas.read_excel(sheet_name=None)` and concatenated them into a single DataFrame.\n",
        "- **Why:** Each sheet represented a unique administrative unit. Combining them allows unified, scalable analysis across all parks.\n",
        "\n",
        "#### 2. **Tracking Source Origin**\n",
        "- **What:** Added a new column `Admin_Unit_Code` during consolidation.\n",
        "- **Why:** This helps trace each observation back to its original administrative unit and enables region-level analysis.\n",
        "\n",
        "#### 3. **Missing Value Handling**\n",
        "- **What:** Filled missing values in the `Distance` column with `'Unknown'`.\n",
        "- **Why:** To ensure consistency for categorical analysis and avoid NaN-related issues during grouping or visualization.\n",
        "\n",
        "#### 4. **Dropped Sparse Columns**\n",
        "- **What:** Removed columns with more than 50% missing values:\n",
        "  - `AcceptedTSN`\n",
        "  - `NPSTaxonCode`\n",
        "  - `AOU_Code`\n",
        "  - `TaxonCode`\n",
        "  - `Previously_Obs`\n",
        "- **Why:** These columns had limited completeness and analytical relevance.\n",
        "\n",
        "#### 5. **Duplicate Removal**\n",
        "- **What:** Dropped **1,700 duplicate records**.\n",
        "- **Why:** Prevents double-counting of bird sightings and improves the reliability of statistical summaries.\n",
        "\n",
        "#### 6. **Datetime Processing**\n",
        "- **What:** Converted the `Date` column to `datetime` format.\n",
        "- **Why:** Enables robust time-series analysis and feature extraction for temporal patterns.\n",
        "\n",
        "#### 7. **Feature Engineering (Temporal)**\n",
        "- **What:** Extracted:\n",
        "  - `Observation_Month`\n",
        "  - `Observation_Day`\n",
        "  - `Observation_Hour`\n",
        "- **Why:** Supports seasonal, daily, and hourly trend analysis of bird activity.\n",
        "\n",
        "#### 8. **Created Unified Observation Timestamp**\n",
        "- **What:** Created a new `Full_Observation_DateTime` column by combining `Date` and `Start_Time`.\n",
        "- **Why:** Allows for high-resolution time analysis and chronological sorting.\n",
        "\n",
        "---\n",
        "\n",
        "  Initial Insights Gained from Cleaning\n",
        "\n",
        "1. **Data Volume and Integrity**\n",
        "   - Final cleaned dataset has **15,344 high-quality rows** across **31 columns**.\n",
        "   - Around **10% of original data** was either duplicated or too sparse for analysis.\n",
        "\n",
        "2. **Data Completeness**\n",
        "   - Core fields like `Common_Name`, `Scientific_Name`, `Date`, `Location_Type`, and `Observer` are nearly 100% complete.\n",
        "   - Non-critical metadata like taxon codes and previous sightings were mostly missing and safely removed.\n",
        "\n",
        "3. **Seasonality & Time Features**\n",
        "   - With `Observation_Month` and `Observation_Hour` extracted, the dataset is now suitable for:\n",
        "     - Seasonal migration trend analysis\n",
        "     - Time-of-day species behavior insights\n",
        "\n",
        "4. **Habitat and Administrative Coverage**\n",
        "   - Observations span multiple units and habitat types (Forest and Grassland), making this a rich dataset for comparing ecological patterns.\n",
        "\n",
        "---"
      ],
      "metadata": {
        "id": "HJEDqmdh8oJu"
      }
    },
    {
      "cell_type": "markdown",
      "source": [
        "#### Saving the Cleaned and Preprocessed DataFrame to CSV"
      ],
      "metadata": {
        "id": "G2ojRmZG9S_f"
      }
    },
    {
      "cell_type": "code",
      "source": [
        "print(\"\\n--- Saving the Cleaned and Preprocessed DataFrame ---\")\n",
        "df_combined.to_csv(\"cleaned_bird_data.csv.csv\", index=False)\n",
        "print(\"Cleaned and preprocessed data successfully saved to master_bird_data_cleaned.csv\")"
      ],
      "metadata": {
        "id": "SxJ0j_r49j0R"
      },
      "execution_count": null,
      "outputs": []
    },
    {
      "cell_type": "markdown",
      "source": [
        "#### Loading Cleaned Data for EDA"
      ],
      "metadata": {
        "id": "ppFTMa5p_m0W"
      }
    },
    {
      "cell_type": "code",
      "source": [
        "df=pd.read_csv('/content/cleaned_bird_data.csv.csv')"
      ],
      "metadata": {
        "id": "BInF8ES9_mX7"
      },
      "execution_count": null,
      "outputs": []
    },
    {
      "cell_type": "code",
      "source": [
        "df.describe()"
      ],
      "metadata": {
        "id": "EUe6_WrNAr12"
      },
      "execution_count": null,
      "outputs": []
    },
    {
      "cell_type": "markdown",
      "source": [
        "## ***4. Data Vizualization, Storytelling & Experimenting with charts : Understand the relationships between variables***"
      ],
      "metadata": {
        "id": "GF8Ens_Soomf"
      }
    },
    {
      "cell_type": "markdown",
      "source": [
        "### 4.1 Temporal Analysis"
      ],
      "metadata": {
        "id": "0wOQAZs5pc--"
      }
    },
    {
      "cell_type": "markdown",
      "source": [
        "#### 4.1A. Seasonal Trends: Year-wise and Month-wise Observations"
      ],
      "metadata": {
        "id": "5QLSF36-CA0h"
      }
    },
    {
      "cell_type": "markdown",
      "source": [
        "Bird Observations by Year"
      ],
      "metadata": {
        "id": "iVxDj1JFCLcY"
      }
    },
    {
      "cell_type": "code",
      "source": [
        "# Chart - 1 Bird Observations by Year\n",
        "import seaborn as sns\n",
        "import matplotlib.pyplot as plt\n",
        "\n",
        "# Ensure 'year' is in numeric form\n",
        "df['Year'] = df['Year'].astype(int)\n",
        "\n",
        "# Yearly count\n",
        "yearly_counts = df['Year'].value_counts().sort_index()\n",
        "\n",
        "# Plot\n",
        "plt.figure(figsize=(8, 4))\n",
        "sns.lineplot(x=yearly_counts.index, y=yearly_counts.values, marker='o')\n",
        "plt.title(\"Bird Observations by Year\")\n",
        "plt.xlabel(\"Year\")\n",
        "plt.ylabel(\"Number of Observations\")\n",
        "plt.grid(True)\n",
        "plt.tight_layout()\n",
        "plt.show()"
      ],
      "metadata": {
        "id": "7v_ESjsspbW7"
      },
      "execution_count": null,
      "outputs": []
    },
    {
      "cell_type": "markdown",
      "source": [
        "##### 1. Why did you pick the specific chart?"
      ],
      "metadata": {
        "id": "K5QZ13OEpz2H"
      }
    },
    {
      "cell_type": "markdown",
      "source": [
        "A line plot is ideal for visualizing how bird observations vary across years, revealing long-term trends and potential environmental impacts over time."
      ],
      "metadata": {
        "id": "XESiWehPqBRc"
      }
    },
    {
      "cell_type": "markdown",
      "source": [
        "##### 2. What is/are the insight(s) found from the chart?"
      ],
      "metadata": {
        "id": "lQ7QKXXCp7Bj"
      }
    },
    {
      "cell_type": "markdown",
      "source": [
        "The number of bird observations fluctuates across years.\n",
        "\n",
        "For example, certain years show significant spikes or drops—this may be due to:\n",
        "\n",
        "* Seasonal migrations\n",
        "\n",
        "* Changes in survey efforts\n",
        "\n",
        "* Environmental disruptions or climate change"
      ],
      "metadata": {
        "id": "C_j1G7yiqdRP"
      }
    },
    {
      "cell_type": "markdown",
      "source": [
        "##### 3. Will the gained insights help creating a positive business impact?\n",
        "Are there any insights that lead to negative growth? Justify with specific reason."
      ],
      "metadata": {
        "id": "448CDAPjqfQr"
      }
    },
    {
      "cell_type": "markdown",
      "source": [
        "Positive impact:\n",
        "\n",
        "* Helps biodiversity monitoring by detecting long-term population trends.\n",
        "\n",
        "* Enables policy makers to correlate dips with habitat loss, climate issues, or human interference.\n",
        "\n",
        "* Conservation efforts can be timed better during years when populations appear more vulnerable.\n",
        "\n",
        "No direct negative impact, but inconsistent data collection years (if any) may reduce comparability and should be normalized for statistical modeling."
      ],
      "metadata": {
        "id": "3cspy4FjqxJW"
      }
    },
    {
      "cell_type": "markdown",
      "source": [
        "#### 4.1B. Monthly Observation Trends (Seasonal Analysis)"
      ],
      "metadata": {
        "id": "KSlN3yHqYklG"
      }
    },
    {
      "cell_type": "markdown",
      "source": [
        "Bird Observation by Month"
      ],
      "metadata": {
        "id": "BcDBXFrnD-b2"
      }
    },
    {
      "cell_type": "code",
      "source": [
        "# Chart - 2 Bird Observation by Month\n",
        "# Monthly count\n",
        "month_counts = df['Observation_Month'].value_counts().sort_index()\n",
        "\n",
        "# Plot\n",
        "plt.figure(figsize=(8, 4))\n",
        "sns.barplot(x=month_counts.index, y=month_counts.values, palette=\"viridis\")\n",
        "plt.title(\"Bird Observations by Month (Seasonality)\")\n",
        "plt.xlabel(\"Month\")\n",
        "plt.ylabel(\"Observation Count\")\n",
        "plt.xticks(ticks=range(1, 13), labels=[\n",
        "    \"Jan\", \"Feb\", \"Mar\", \"Apr\", \"May\", \"Jun\",\n",
        "    \"Jul\", \"Aug\", \"Sep\", \"Oct\", \"Nov\", \"Dec\"\n",
        "])\n",
        "plt.tight_layout()\n",
        "plt.show()"
      ],
      "metadata": {
        "id": "R4YgtaqtYklH"
      },
      "execution_count": null,
      "outputs": []
    },
    {
      "cell_type": "markdown",
      "source": [
        "##### 1. Why did you pick the specific chart?"
      ],
      "metadata": {
        "id": "t6dVpIINYklI"
      }
    },
    {
      "cell_type": "markdown",
      "source": [
        "A bar chart is ideal to identify which months record the most bird sightings and detect seasonal activity patterns in bird populations."
      ],
      "metadata": {
        "id": "5aaW0BYyYklI"
      }
    },
    {
      "cell_type": "markdown",
      "source": [
        "##### 2. What is/are the insight(s) found from the chart?"
      ],
      "metadata": {
        "id": "ijmpgYnKYklI"
      }
    },
    {
      "cell_type": "markdown",
      "source": [
        "All bird observations are currently concentrated in January, February, and March.\n",
        "\n",
        "* No data is available for the rest of the year, indicating either:\n",
        "\n",
        "* Partial-year data collection, or\n",
        "\n",
        "* A need to improve temporal data completeness."
      ],
      "metadata": {
        "id": "PSx9atu2YklI"
      }
    },
    {
      "cell_type": "markdown",
      "source": [
        "##### 3. Will the gained insights help creating a positive business impact?\n",
        "Are there any insights that lead to negative growth? Justify with specific reason."
      ],
      "metadata": {
        "id": "-JiQyfWJYklI"
      }
    },
    {
      "cell_type": "markdown",
      "source": [
        "Positive:\n",
        "\n",
        "* Helps resource planning by focusing analysis on early-year data.\n",
        "\n",
        "* Indicates best months for initiating early-year eco-tourism or surveys.\n",
        "\n",
        "Negative:\n",
        "\n",
        "* Severe temporal bias reduces the effectiveness of year-round biodiversity monitoring.\n",
        "\n",
        "* Conservation planning cannot rely on this alone — you may miss migration patterns or nesting seasons occurring in later months."
      ],
      "metadata": {
        "id": "BcBbebzrYklV"
      }
    },
    {
      "cell_type": "markdown",
      "source": [
        "#### 4.1C. Observation Time: Hourly Trends"
      ],
      "metadata": {
        "id": "EM7whBJCYoAo"
      }
    },
    {
      "cell_type": "markdown",
      "source": [
        "Observation Trend (Hourly)"
      ],
      "metadata": {
        "id": "7bYE-QYCFTmO"
      }
    },
    {
      "cell_type": "code",
      "source": [
        "# Chart - 3 Hourly distribution\n",
        "\n",
        "hour_counts = df['Observation_Hour'].value_counts().sort_index()\n",
        "\n",
        "# Plot\n",
        "plt.figure(figsize=(8, 4))\n",
        "sns.lineplot(x=hour_counts.index, y=hour_counts.values, marker='o', color='orange')\n",
        "plt.title(\"Bird Observations by Hour of Day\")\n",
        "plt.xlabel(\"Hour (24h format)\")\n",
        "plt.ylabel(\"Number of Observations\")\n",
        "plt.grid(True)\n",
        "plt.tight_layout()\n",
        "plt.show()"
      ],
      "metadata": {
        "id": "t6GMdE67YoAp"
      },
      "execution_count": null,
      "outputs": []
    },
    {
      "cell_type": "markdown",
      "source": [
        "##### 1. Why did you pick the specific chart?"
      ],
      "metadata": {
        "id": "fge-S5ZAYoAp"
      }
    },
    {
      "cell_type": "markdown",
      "source": [
        "Bird activity varies throughout the day. A line plot captures hourly changes in observation frequency, helping pinpoint optimal survey windows."
      ],
      "metadata": {
        "id": "5dBItgRVYoAp"
      }
    },
    {
      "cell_type": "markdown",
      "source": [
        "##### 2. What is/are the insight(s) found from the chart?"
      ],
      "metadata": {
        "id": "85gYPyotYoAp"
      }
    },
    {
      "cell_type": "markdown",
      "source": [
        "Most bird observations occur between 6 AM and 9 AM, suggesting that:\n",
        "\n",
        "* Birds are most active during early morning hours.\n",
        "\n",
        "* Observers are also more likely to conduct surveys at that time."
      ],
      "metadata": {
        "id": "4jstXR6OYoAp"
      }
    },
    {
      "cell_type": "markdown",
      "source": [
        "##### 3. Will the gained insights help creating a positive business impact?\n",
        "Are there any insights that lead to negative growth? Justify with specific reason."
      ],
      "metadata": {
        "id": "RoGjAbkUYoAp"
      }
    },
    {
      "cell_type": "markdown",
      "source": [
        "Positive impact:\n",
        "\n",
        "* Helps guide observer scheduling and resource allocation for bird surveys.\n",
        "\n",
        "* Supports land managers in understanding daily bird behavior patterns.\n",
        "\n",
        "* Tourism operators can create morning tour packages for better sightings.\n",
        "\n",
        "No negative impact, but it's important to standardize survey times for comparative research across regions and years."
      ],
      "metadata": {
        "id": "zfJ8IqMcYoAp"
      }
    },
    {
      "cell_type": "markdown",
      "source": [
        "### 4.2 Spatial Analysis"
      ],
      "metadata": {
        "id": "4Of9eVA-YrdM"
      }
    },
    {
      "cell_type": "markdown",
      "source": [
        "#### 4.2 Habitat-Based Species Richness"
      ],
      "metadata": {
        "id": "srQ0M4T6MNAZ"
      }
    },
    {
      "cell_type": "markdown",
      "source": [
        "Unique Species Count by Habitat Type"
      ],
      "metadata": {
        "id": "q3ZCB6SBMfWT"
      }
    },
    {
      "cell_type": "code",
      "source": [
        "# Chart - 4 Count of unique species grouped by Location Type (Forest vs Grassland)\n",
        "\n",
        "species_by_habitat = df.groupby('Location_Type')['Scientific_Name'].nunique().sort_values(ascending=False)\n",
        "\n",
        "# Plot\n",
        "plt.figure(figsize=(8, 5))\n",
        "sns.barplot(x=species_by_habitat.index, y=species_by_habitat.values, palette=\"Set2\")\n",
        "plt.title(\"Unique Bird Species Observed by Habitat Type\")\n",
        "plt.xlabel(\"Habitat Type\")\n",
        "plt.ylabel(\"Number of Unique Species\")\n",
        "plt.show()"
      ],
      "metadata": {
        "id": "irlUoxc8YrdO"
      },
      "execution_count": null,
      "outputs": []
    },
    {
      "cell_type": "markdown",
      "source": [
        "##### 1. Why did you pick the specific chart?"
      ],
      "metadata": {
        "id": "iky9q4vBYrdO"
      }
    },
    {
      "cell_type": "markdown",
      "source": [
        "A bar chart is perfect for comparing the number of unique species across categorical variables like habitat types. This helps highlight which ecosystem supports greater avian diversity."
      ],
      "metadata": {
        "id": "aJRCwT6DYrdO"
      }
    },
    {
      "cell_type": "markdown",
      "source": [
        "##### 2. What is/are the insight(s) found from the chart?"
      ],
      "metadata": {
        "id": "F6T5p64dYrdO"
      }
    },
    {
      "cell_type": "markdown",
      "source": [
        "* One habitat (likely Forest) shows a significantly higher number of unique species compared to the other (e.g., Grassland).\n",
        "\n",
        "* This highlights that forests may act as biodiversity hotspots, while grasslands might require restoration or protective measures."
      ],
      "metadata": {
        "id": "Xx8WAJvtYrdO"
      }
    },
    {
      "cell_type": "markdown",
      "source": [
        "##### 3. Will the gained insights help creating a positive business impact?\n",
        "Are there any insights that lead to negative growth? Justify with specific reason."
      ],
      "metadata": {
        "id": "y-Ehk30pYrdP"
      }
    },
    {
      "cell_type": "markdown",
      "source": [
        "Positive:\n",
        "\n",
        "* Supports land-use planning — forests should be prioritized for protection, buffer zones, and controlled human access.\n",
        "\n",
        "* Grasslands, if underperforming in diversity, may benefit from habitat restoration programs.\n",
        "\n",
        "* Helps eco-tourism planners position high-species areas for bird-watching trails.\n",
        "\n",
        "Potential Negative:\n",
        "\n",
        "* Low diversity in grasslands could imply negative environmental pressure (e.g., overgrazing, farming).\n",
        "\n",
        "* Ignoring such insight may lead to declining populations of grassland-dependent species.\n",
        "\n"
      ],
      "metadata": {
        "id": "jLNxxz7MYrdP"
      }
    },
    {
      "cell_type": "markdown",
      "source": [
        "#### 4.2B. Plot-Level Hotspots"
      ],
      "metadata": {
        "id": "bamQiAODYuh1"
      }
    },
    {
      "cell_type": "markdown",
      "source": [
        "Top 10 Plots with Highest Species Richness"
      ],
      "metadata": {
        "id": "lfPYfbM9OKjQ"
      }
    },
    {
      "cell_type": "code",
      "source": [
        "# Chart - 5 Unique species per Plot\n",
        "\n",
        "species_by_plot = df.groupby('Plot_Name')['Scientific_Name'].nunique().sort_values(ascending=False).head(10)\n",
        "\n",
        "# Plot\n",
        "plt.figure(figsize=(10, 6))\n",
        "sns.barplot(x=species_by_plot.values, y=species_by_plot.index, palette=\"crest\")\n",
        "plt.title(\"Top 10 Plots with Highest Bird Species Richness\")\n",
        "plt.xlabel(\"Number of Unique Species\")\n",
        "plt.ylabel(\"Plot Name\")\n",
        "plt.show()"
      ],
      "metadata": {
        "id": "TIJwrbroYuh3"
      },
      "execution_count": null,
      "outputs": []
    },
    {
      "cell_type": "markdown",
      "source": [
        "##### 1. Why did you pick the specific chart?"
      ],
      "metadata": {
        "id": "QHF8YVU7Yuh3"
      }
    },
    {
      "cell_type": "markdown",
      "source": [
        "This horizontal bar chart allows easy identification of individual plots that attract the most bird species. Plot names can be long, so displaying them vertically would be less readable."
      ],
      "metadata": {
        "id": "dcxuIMRPYuh3"
      }
    },
    {
      "cell_type": "markdown",
      "source": [
        "##### 2. What is/are the insight(s) found from the chart?"
      ],
      "metadata": {
        "id": "GwzvFGzlYuh3"
      }
    },
    {
      "cell_type": "markdown",
      "source": [
        "* Certain plots stand out as bird species hotspots.\n",
        "\n",
        "* These plots may have better vegetation, water sources, or microclimates that support diverse avifauna."
      ],
      "metadata": {
        "id": "uyqkiB8YYuh3"
      }
    },
    {
      "cell_type": "markdown",
      "source": [
        "##### 3. Will the gained insights help creating a positive business impact?\n",
        "Are there any insights that lead to negative growth? Justify with specific reason."
      ],
      "metadata": {
        "id": "qYpmQ266Yuh3"
      }
    },
    {
      "cell_type": "markdown",
      "source": [
        "Positive:\n",
        "\n",
        "* Enables targeted conservation: these plots can be monitored, protected, and studied further.\n",
        "\n",
        "* Promotes data-driven tourism: high-diversity plots can be designated as visitor zones.\n",
        "\n",
        "* Helps in prioritizing budget allocation to high-value ecological areas.\n",
        "\n",
        "Negative Risk:\n",
        "\n",
        "* If these plots are not adequately protected, they may suffer from over-visitation, leading to habitat degradation. This risk needs policy-based access regulation."
      ],
      "metadata": {
        "id": "_WtzZ_hCYuh4"
      }
    },
    {
      "cell_type": "markdown",
      "source": [
        "### 4.3 Species Analysis"
      ],
      "metadata": {
        "id": "tj7mxTQ3Qeqy"
      }
    },
    {
      "cell_type": "markdown",
      "source": [
        "#### 4.3A. Species Diversity by Habitat"
      ],
      "metadata": {
        "id": "OH-pJp9IphqM"
      }
    },
    {
      "cell_type": "markdown",
      "source": [
        "Unique Species Count per Habitat Type"
      ],
      "metadata": {
        "id": "bWxHhCqaQ6-D"
      }
    },
    {
      "cell_type": "code",
      "source": [
        "# Chart - Count unique species by habitat\n",
        "#\n",
        "species_diversity = df.groupby('Location_Type')['Scientific_Name'].nunique().sort_values(ascending=False)\n",
        "\n",
        "# Plot\n",
        "plt.figure(figsize=(8, 5))\n",
        "sns.barplot(x=species_diversity.index, y=species_diversity.values, palette=\"coolwarm\")\n",
        "plt.title(\"Bird Species Diversity by Habitat Type\")\n",
        "plt.xlabel(\"Habitat\")\n",
        "plt.ylabel(\"Unique Species Count\")\n",
        "plt.show()"
      ],
      "metadata": {
        "id": "kuRf4wtuphqN"
      },
      "execution_count": null,
      "outputs": []
    },
    {
      "cell_type": "markdown",
      "source": [
        "##### 1. Why did you pick the specific chart?"
      ],
      "metadata": {
        "id": "bbFf2-_FphqN"
      }
    },
    {
      "cell_type": "markdown",
      "source": [
        "A bar chart is ideal to compare biodiversity between two habitat types (e.g., Forest vs Grassland), allowing stakeholders to see where species richness is concentrated."
      ],
      "metadata": {
        "id": "loh7H2nzphqN"
      }
    },
    {
      "cell_type": "markdown",
      "source": [
        "##### 2. What is/are the insight(s) found from the chart?"
      ],
      "metadata": {
        "id": "_ouA3fa0phqN"
      }
    },
    {
      "cell_type": "markdown",
      "source": [
        "* Forests appear to host significantly more diverse bird species than grasslands.\n",
        "\n",
        "* This suggests higher ecological complexity in forest ecosystems."
      ],
      "metadata": {
        "id": "VECbqPI7phqN"
      }
    },
    {
      "cell_type": "markdown",
      "source": [
        "##### 3. Will the gained insights help creating a positive business impact?\n",
        "Are there any insights that lead to negative growth? Justify with specific reason."
      ],
      "metadata": {
        "id": "Seke61FWphqN"
      }
    },
    {
      "cell_type": "markdown",
      "source": [
        "Positive:\n",
        "\n",
        "* Reinforces the importance of forest ecosystems in maintaining bird diversity.\n",
        "\n",
        "* Helps in prioritizing habitat protection policies and eco-tourism development in forests.\n",
        "\n",
        "Negative Signal:\n",
        "\n",
        "* Low diversity in grasslands may require attention — could indicate human pressure or habitat degradation needing policy intervention."
      ],
      "metadata": {
        "id": "DW4_bGpfphqN"
      }
    },
    {
      "cell_type": "markdown",
      "source": [
        "#### 4.3B. Activity Patterns – Observation Method"
      ],
      "metadata": {
        "id": "PIIx-8_IphqN"
      }
    },
    {
      "cell_type": "markdown",
      "source": [
        "Top Bird Identification Methods"
      ],
      "metadata": {
        "id": "IaJ2MPHsR9d-"
      }
    },
    {
      "cell_type": "code",
      "source": [
        "# Chart - 7 Observation method frequency\n",
        "#\n",
        "method_counts = df['ID_Method'].value_counts().head(5)\n",
        "\n",
        "# Plot\n",
        "plt.figure(figsize=(8, 4))\n",
        "sns.barplot(x=method_counts.index, y=method_counts.values, palette=\"pastel\")\n",
        "plt.title(\"Top Bird Identification Methods\")\n",
        "plt.xlabel(\"Method\")\n",
        "plt.ylabel(\"Observation Count\")\n",
        "plt.show()"
      ],
      "metadata": {
        "id": "lqAIGUfyphqO"
      },
      "execution_count": null,
      "outputs": []
    },
    {
      "cell_type": "markdown",
      "source": [
        "##### 1. Why did you pick the specific chart?"
      ],
      "metadata": {
        "id": "t27r6nlMphqO"
      }
    },
    {
      "cell_type": "markdown",
      "source": [
        "To understand how birds are most frequently identified (e.g., Singing, Calling, Visualization). A bar chart quickly highlights dominant observation techniques."
      ],
      "metadata": {
        "id": "iv6ro40sphqO"
      }
    },
    {
      "cell_type": "markdown",
      "source": [
        "##### 2. What is/are the insight(s) found from the chart?"
      ],
      "metadata": {
        "id": "r2jJGEOYphqO"
      }
    },
    {
      "cell_type": "markdown",
      "source": [
        "* The majority of birds were identified via Singing, followed by Calling and Visual methods.\n",
        "\n",
        "* This shows acoustic identification is the primary detection method."
      ],
      "metadata": {
        "id": "Po6ZPi4hphqO"
      }
    },
    {
      "cell_type": "markdown",
      "source": [
        "##### 3. Will the gained insights help creating a positive business impact?\n",
        "Are there any insights that lead to negative growth? Justify with specific reason."
      ],
      "metadata": {
        "id": "b0JNsNcRphqO"
      }
    },
    {
      "cell_type": "markdown",
      "source": [
        "Positive:\n",
        "\n",
        "* Helps conservationists and analysts focus resources on audio-based surveys.\n",
        "\n",
        "* Tools like automated sound recording can be prioritized in future research.\n",
        "\n",
        "* Indicates the need for trained personnel who can identify birds by sound.\n",
        "\n",
        "Risk:\n",
        "\n",
        "* May undercount non-vocal species or those active in silent periods — suggests complementing with other techniques like motion-triggered cameras."
      ],
      "metadata": {
        "id": "xvSq8iUTphqO"
      }
    },
    {
      "cell_type": "markdown",
      "source": [
        "####  4.3C. Sex Ratio of Observed Birds"
      ],
      "metadata": {
        "id": "BZR9WyysphqO"
      }
    },
    {
      "cell_type": "markdown",
      "source": [
        "Sex Distribution of Observed Birds"
      ],
      "metadata": {
        "id": "Uh3r46YmTARI"
      }
    },
    {
      "cell_type": "code",
      "source": [
        "# Chart - 8 Plot sex ratio\n",
        "#\n",
        "plt.figure(figsize=(6, 4))\n",
        "sns.countplot(x='Sex', data=df, order=['Male', 'Female', 'Unknown'], palette=\"Set1\")\n",
        "plt.title(\"Sex Distribution of Observed Birds\")\n",
        "plt.xlabel(\"Sex\")\n",
        "plt.ylabel(\"Count\")\n",
        "plt.show()"
      ],
      "metadata": {
        "id": "TdPTWpAVphqO"
      },
      "execution_count": null,
      "outputs": []
    },
    {
      "cell_type": "markdown",
      "source": [
        "##### 1. Why did you pick the specific chart?"
      ],
      "metadata": {
        "id": "jj7wYXLtphqO"
      }
    },
    {
      "cell_type": "markdown",
      "source": [
        "Understanding the sex distribution helps evaluate potential biases in observation and breeding population trends. A count plot clearly shows categorical frequency."
      ],
      "metadata": {
        "id": "Ob8u6rCTphqO"
      }
    },
    {
      "cell_type": "markdown",
      "source": [
        "##### 2. What is/are the insight(s) found from the chart?"
      ],
      "metadata": {
        "id": "eZrbJ2SmphqO"
      }
    },
    {
      "cell_type": "markdown",
      "source": [
        "* Male birds are observed significantly more often than females.\n",
        "\n",
        "* A large portion is labeled as Undetermined — likely due to distant sightings or similar appearance between sexes."
      ],
      "metadata": {
        "id": "mZtgC_hjphqO"
      }
    },
    {
      "cell_type": "markdown",
      "source": [
        "##### 3. Will the gained insights help creating a positive business impact?\n",
        "Are there any insights that lead to negative growth? Justify with specific reason."
      ],
      "metadata": {
        "id": "rFu4xreNphqO"
      }
    },
    {
      "cell_type": "markdown",
      "source": [
        "Positive:\n",
        "\n",
        "* Highlights the need for more balanced data collection, especially during breeding seasons when sex-based roles vary.\n",
        "\n",
        "* Can guide future training for field observers on identifying sex characteristics.\n",
        "\n",
        "Potential Issues:\n",
        "\n",
        "* Sex bias can affect estimates of population health and mislead conservation planning if not corrected.\n",
        "\n"
      ],
      "metadata": {
        "id": "ey_0qi68phqO"
      }
    },
    {
      "cell_type": "markdown",
      "source": [
        "### 4.4 Environmental Conditions"
      ],
      "metadata": {
        "id": "YJ55k-q6phqO"
      }
    },
    {
      "cell_type": "markdown",
      "source": [
        "Combined Plot: How Environmental Factors Influence Bird Observations"
      ],
      "metadata": {
        "id": "itSKXJwN56uG"
      }
    },
    {
      "cell_type": "code",
      "source": [
        "# Chart - 9 Combined Plot of Environmental Factors Influence Bird Observations\n",
        "\n",
        "\n",
        "# Create a new DataFrame to hold summarized counts for plotting\n",
        "env_summary = pd.DataFrame()\n",
        "\n",
        "# Temperature bins\n",
        "df['temp_bin'] = pd.cut(df['Temperature'], bins=[-10, 10, 15, 20, 25, 30, 40])\n",
        "temp_summary = df['temp_bin'].value_counts().sort_index()\n",
        "temp_df = pd.DataFrame({'Condition': temp_summary.index.astype(str), 'Count': temp_summary.values, 'Factor': 'Temperature'})\n",
        "\n",
        "# Humidity bins\n",
        "df['humidity_bin'] = pd.cut(df['Humidity'], bins=[0, 30, 50, 70, 90, 100])\n",
        "humidity_summary = df['humidity_bin'].value_counts().sort_index()\n",
        "humidity_df = pd.DataFrame({'Condition': humidity_summary.index.astype(str), 'Count': humidity_summary.values, 'Factor': 'Humidity'})\n",
        "\n",
        "# Sky condition\n",
        "sky_summary = df['Sky'].value_counts()\n",
        "sky_df = pd.DataFrame({'Condition': sky_summary.index, 'Count': sky_summary.values, 'Factor': 'Sky'})\n",
        "\n",
        "# Wind condition\n",
        "wind_summary = df['Wind'].value_counts()\n",
        "wind_df = pd.DataFrame({'Condition': wind_summary.index, 'Count': wind_summary.values, 'Factor': 'Wind'})\n",
        "\n",
        "# Disturbance\n",
        "disturb_summary = df['Disturbance'].value_counts()\n",
        "disturb_df = pd.DataFrame({'Condition': disturb_summary.index, 'Count': disturb_summary.values, 'Factor': 'Disturbance'})\n",
        "\n",
        "# Combine all\n",
        "env_summary = pd.concat([temp_df, humidity_df, sky_df, wind_df, disturb_df], ignore_index=True)\n",
        "\n",
        "# Plot all in one chart\n",
        "plt.figure(figsize=(14, 8))\n",
        "sns.barplot(data=env_summary, x='Factor', y='Count', hue='Condition')\n",
        "plt.title(\"Bird Observations vs Environmental Conditions (Unified View)\")\n",
        "plt.xlabel(\"Environmental Factor\")\n",
        "plt.ylabel(\"Number of Observations\")\n",
        "plt.legend(title='Condition', bbox_to_anchor=(1.05, 1), loc='upper left')\n",
        "plt.tight_layout()\n",
        "plt.show()"
      ],
      "metadata": {
        "id": "B2aS4O1ophqO"
      },
      "execution_count": null,
      "outputs": []
    },
    {
      "cell_type": "markdown",
      "source": [
        "##### 1. Why did you pick the specific chart?"
      ],
      "metadata": {
        "id": "gCFgpxoyphqP"
      }
    },
    {
      "cell_type": "markdown",
      "source": [
        "This stacked bar chart unifies multiple environmental factors in a single visualization. It allows direct comparison of how different condition categories within each factor affect bird observation volume — all in one place."
      ],
      "metadata": {
        "id": "TVxDimi2phqP"
      }
    },
    {
      "cell_type": "markdown",
      "source": [
        "##### 2. What is/are the insight(s) found from the chart?"
      ],
      "metadata": {
        "id": "OVtJsKN_phqQ"
      }
    },
    {
      "cell_type": "markdown",
      "source": [
        "* Temperature: Bird activity is highest in moderate temperature ranges (~15–25°C).\n",
        "\n",
        "* Humidity: Most sightings occur between 50%–70% humidity.\n",
        "\n",
        "* Sky: \"Partly Cloudy\" and \"Clear\" dominate sightings — possibly due to better visibility.\n",
        "\n",
        "* Wind: Calm wind or light breeze results in more observations; strong wind reduces bird activity or visibility.\n",
        "\n",
        "* Disturbance: \"No effect on count\" leads, but observations decline in disturbed settings."
      ],
      "metadata": {
        "id": "ngGi97qjphqQ"
      }
    },
    {
      "cell_type": "markdown",
      "source": [
        "##### 3. Will the gained insights help creating a positive business impact?\n",
        "Are there any insights that lead to negative growth? Justify with specific reason."
      ],
      "metadata": {
        "id": "lssrdh5qphqQ"
      }
    },
    {
      "cell_type": "markdown",
      "source": [
        "| **Environmental Factor** | **Positive Business Impact** | **Negative Signal / Risk** |\n",
        "|---------------------------|-------------------------------|-----------------------------|\n",
        "| **Temperature** | Moderate temperatures (~20–25°C) show peak bird activity. Field surveys and eco-tourism can be scheduled during these climate windows for maximum success. | Extreme temperatures reduce sightings, which may affect monitoring accuracy or signal climate-related stress. |\n",
        "| **Humidity** | Bird activity is highest between 50–70% humidity. This helps plan fieldwork in seasons with optimal atmospheric moisture. | Very high or low humidity may interfere with visibility, sound, and observer comfort, reducing data quality. |\n",
        "| **Sky Condition** | \"Clear\" and \"Partly Cloudy\" skies yield more sightings — excellent for planning bird-watching tours and visual surveys. | Foggy, overcast, or rainy skies limit visibility, potentially causing underreporting. |\n",
        "| **Wind** | Calm or lightly breezy days are optimal for accurate observations and bird movement. Helps guide scheduling of survey teams. | Strong wind decreases bird flight and visibility, leading to lower counts or skewed data. |\n",
        "| **Disturbance** | Areas with \"No effect on count\" show the most observations — supports maintaining **quiet zones** in high-activity habitats. | Human or environmental disturbances (slight to moderate effects) negatively impact sightings, suggesting the need for disturbance-free buffer zones. |"
      ],
      "metadata": {
        "id": "tBpY5ekJphqQ"
      }
    },
    {
      "cell_type": "markdown",
      "source": [
        "### 4.5 Distance and Behavior"
      ],
      "metadata": {
        "id": "yGexsyIm6YoR"
      }
    },
    {
      "cell_type": "markdown",
      "source": [
        "#### 4.5A. Distance Analysis – How Far Are Birds Observed?"
      ],
      "metadata": {
        "id": "U2RJ9gkRphqQ"
      }
    },
    {
      "cell_type": "markdown",
      "source": [
        "Observation Count by Distance Category"
      ],
      "metadata": {
        "id": "RIZ1R2Ze63gJ"
      }
    },
    {
      "cell_type": "code",
      "source": [
        "# Chart - 10 Plot: Bird observations grouped by distance from observer\n",
        "\n",
        "plt.figure(figsize=(10, 5))\n",
        "distance_order = df['Distance'].value_counts().sort_values(ascending=False).index\n",
        "\n",
        "sns.countplot(data=df, y='Distance', order=distance_order, palette='viridis')\n",
        "plt.title(\"Bird Observations by Distance from Observer\")\n",
        "plt.xlabel(\"Number of Observations\")\n",
        "plt.ylabel(\"Distance Category\")\n",
        "plt.tight_layout()\n",
        "plt.show()"
      ],
      "metadata": {
        "id": "GM7a4YP4phqQ"
      },
      "execution_count": null,
      "outputs": []
    },
    {
      "cell_type": "markdown",
      "source": [
        "##### 1. Why did you pick the specific chart?"
      ],
      "metadata": {
        "id": "1M8mcRywphqQ"
      }
    },
    {
      "cell_type": "markdown",
      "source": [
        "A horizontal bar chart works well here because distance categories are often long strings (e.g., “≤ 50 meters”) and are better viewed on the Y-axis. This visual helps identify how close or far birds are usually observed."
      ],
      "metadata": {
        "id": "8agQvks0phqQ"
      }
    },
    {
      "cell_type": "markdown",
      "source": [
        "##### 2. What is/are the insight(s) found from the chart?"
      ],
      "metadata": {
        "id": "tgIPom80phqQ"
      }
    },
    {
      "cell_type": "markdown",
      "source": [
        "* The majority of birds are observed at short distances (e.g., ≤50 meters).\n",
        "\n",
        "* Farther distances (e.g., >100 meters or \"Unknown\") have significantly fewer records.\n",
        "\n",
        "* This could reflect both bird behavior and detection limitations of observers."
      ],
      "metadata": {
        "id": "Qp13pnNzphqQ"
      }
    },
    {
      "cell_type": "markdown",
      "source": [
        "##### 3. Will the gained insights help creating a positive business impact?\n",
        "Are there any insights that lead to negative growth? Justify with specific reason."
      ],
      "metadata": {
        "id": "JMzcOPDDphqR"
      }
    },
    {
      "cell_type": "markdown",
      "source": [
        "Yes, the insights gained from analyzing observation distances have direct practical value. The fact that the majority of birds are observed at close distances — particularly within 50 meters — implies that birds are **actively using areas near human-accessible zones** like trails, forest edges, or observation stations. This is a highly positive signal for eco-tourism development, since it suggests that birdwatchers and conservation staff can reliably observe bird activity without disturbing sensitive habitat interiors.\n",
        "\n",
        "From a conservation standpoint, this finding also highlights **key areas for habitat preservation** and **buffer zone planning**, ensuring that human presence remains compatible with avian behavior. However, the presence of lower counts at greater distances — and some \"Unknown\" entries — may point to either **detection limitations** or gaps in survey standardization. Addressing this by improving survey training and methods can further enhance the quality of ecological monitoring."
      ],
      "metadata": {
        "id": "R4Ka1PC2phqR"
      }
    },
    {
      "cell_type": "markdown",
      "source": [
        "#### 4.5B. Flyover Frequency – Are Birds Just Passing or Engaging?"
      ],
      "metadata": {
        "id": "x-EpHcCOp1ci"
      }
    },
    {
      "cell_type": "markdown",
      "source": [
        "Flyover vs Non-Flyover Observations"
      ],
      "metadata": {
        "id": "-iBIxKlt8s76"
      }
    },
    {
      "cell_type": "code",
      "source": [
        "# Chart - 11 Plot flyover behavior\n",
        "\n",
        "plt.figure(figsize=(6, 4))\n",
        "sns.countplot(data=df, x='Flyover_Observed', palette='pastel')\n",
        "plt.title(\"Bird Flyover Observations\")\n",
        "plt.xlabel(\"Flyover Observed\")\n",
        "plt.ylabel(\"Count\")\n",
        "plt.tight_layout()\n",
        "plt.show()"
      ],
      "metadata": {
        "id": "mAQTIvtqp1cj"
      },
      "execution_count": null,
      "outputs": []
    },
    {
      "cell_type": "markdown",
      "source": [
        "##### 1. Why did you pick the specific chart?"
      ],
      "metadata": {
        "id": "X_VqEhTip1ck"
      }
    },
    {
      "cell_type": "markdown",
      "source": [
        "A simple count plot helps quickly distinguish between birds that were flying overhead and those observed perching, feeding, or interacting with their environment — crucial for habitat engagement insights."
      ],
      "metadata": {
        "id": "-vsMzt_np1ck"
      }
    },
    {
      "cell_type": "markdown",
      "source": [
        "##### 2. What is/are the insight(s) found from the chart?"
      ],
      "metadata": {
        "id": "8zGJKyg5p1ck"
      }
    },
    {
      "cell_type": "markdown",
      "source": [
        "* Most observations are not flyovers, meaning birds are actively engaging with the environment (feeding, nesting, etc.).\n",
        "\n",
        "* Flyovers represent a smaller portion, possibly migratory individuals or low-interaction events."
      ],
      "metadata": {
        "id": "ZYdMsrqVp1ck"
      }
    },
    {
      "cell_type": "markdown",
      "source": [
        "##### 3. Will the gained insights help creating a positive business impact?\n",
        "Are there any insights that lead to negative growth? Justify with specific reason."
      ],
      "metadata": {
        "id": "PVzmfK_Ep1ck"
      }
    },
    {
      "cell_type": "markdown",
      "source": [
        "The behavior analysis shows that most birds are not simply flying overhead but are being recorded while **actively engaging with the habitat** — feeding, nesting, singing, or perching. This is an encouraging insight for biodiversity management, as it indicates that the landscape is not merely a passageway but serves as an **ecological destination** for birds.\n",
        "\n",
        "This directly supports decisions related to **habitat conservation**, **species monitoring**, and **land use management**. It suggests that the environment offers adequate food, shelter, or nesting conditions to support bird activity at ground or canopy level.\n",
        "\n",
        "On the other hand, species observed **only in flyover mode** may be using the area as a **migration corridor**, but not finding enough habitat features to settle. This highlights potential zones for **habitat enrichment or restoration**, especially in regions critical to migratory species. Overall, this analysis guides both **conservation prioritization** and **eco-tourism development**, helping to target zones of highest bird activity and ecological value."
      ],
      "metadata": {
        "id": "druuKYZpp1ck"
      }
    },
    {
      "cell_type": "markdown",
      "source": [
        "### 4.6 Observer Trends"
      ],
      "metadata": {
        "id": "DYNBAUqO9Sno"
      }
    },
    {
      "cell_type": "markdown",
      "source": [
        "#### 4.6A. Observer Bias – Who Reports the Most Observations?"
      ],
      "metadata": {
        "id": "n3dbpmDWp1ck"
      }
    },
    {
      "cell_type": "code",
      "source": [
        "# Chart - 12 Top 10 observers by observation count\n",
        "\n",
        "top_observers = df['Observer'].value_counts().head(10)\n",
        "\n",
        "plt.figure(figsize=(10, 5))\n",
        "sns.barplot(x=top_observers.values, y=top_observers.index, palette=\"Spectral\")\n",
        "plt.title(\"Top 10 Observers by Observation Count\")\n",
        "plt.xlabel(\"Number of Observations\")\n",
        "plt.ylabel(\"Observer\")\n",
        "plt.tight_layout()\n",
        "plt.show()"
      ],
      "metadata": {
        "id": "bwevp1tKp1ck"
      },
      "execution_count": null,
      "outputs": []
    },
    {
      "cell_type": "markdown",
      "source": [
        "##### 1. Why did you pick the specific chart?"
      ],
      "metadata": {
        "id": "ylSl6qgtp1ck"
      }
    },
    {
      "cell_type": "markdown",
      "source": [
        "This horizontal bar chart easily displays long observer names and makes it clear who has contributed the most data. It's ideal for quickly identifying any disproportionate data contributions."
      ],
      "metadata": {
        "id": "m2xqNkiQp1ck"
      }
    },
    {
      "cell_type": "markdown",
      "source": [
        "##### 2. What is/are the insight(s) found from the chart?"
      ],
      "metadata": {
        "id": "ZWILFDl5p1ck"
      }
    },
    {
      "cell_type": "markdown",
      "source": [
        "* A small number of observers (possibly even 1 or 2) contribute disproportionately high numbers of observations.\n",
        "\n",
        "* This suggests a possible observer bias, where some individuals might influence data trends more than others."
      ],
      "metadata": {
        "id": "x-lUsV2mp1ck"
      }
    },
    {
      "cell_type": "markdown",
      "source": [
        "##### 3. Will the gained insights help creating a positive business impact?\n",
        "Are there any insights that lead to negative growth? Justify with specific reason."
      ],
      "metadata": {
        "id": "M7G43BXep1ck"
      }
    },
    {
      "cell_type": "markdown",
      "source": [
        "* Yes — this analysis directly contributes to improving data quality control. If a small group of observers dominate the data, their habits, methods, and expertise can significantly influence the trends — for better or worse.\n",
        "\n",
        "* Positively, this may reflect well-trained observers who consistently contribute high-quality data. These individuals can be empowered further through funding, equipment, or involvement in long-term monitoring programs.\n",
        "\n",
        "* On the other hand, over-reliance on a few observers poses a risk. If their methods are inconsistent, biased, or location-specific, it could skew population or behavioral insights. Thus, this insight can inform policy and protocol development to diversify participation, standardize training, and validate field reports for consistency across observers."
      ],
      "metadata": {
        "id": "5wwDJXsLp1cl"
      }
    },
    {
      "cell_type": "markdown",
      "source": [
        "#### 4.6B. Visit Patterns – Does Repeated Site Visit Increase Diversity?"
      ],
      "metadata": {
        "id": "Ag9LCva-p1cl"
      }
    },
    {
      "cell_type": "markdown",
      "source": [
        "Species Count vs Number of Visits"
      ],
      "metadata": {
        "id": "1EaemZOFCVqQ"
      }
    },
    {
      "cell_type": "code",
      "source": [
        "# Chart - 13 Species Count vs Number of Visits\n",
        "# Convert visit to numeric\n",
        "df['Visit'] = pd.to_numeric(df['Visit'], errors='coerce')\n",
        "\n",
        "# Species richness by visit frequency\n",
        "species_by_visit = df.groupby('Visit')['Scientific_Name'].nunique()\n",
        "\n",
        "# Plot\n",
        "plt.figure(figsize=(8, 4))\n",
        "sns.lineplot(x=species_by_visit.index, y=species_by_visit.values, marker='o')\n",
        "plt.title(\"Unique Species Observed vs Visit Frequency\")\n",
        "plt.xlabel(\"Visit Number\")\n",
        "plt.ylabel(\"Number of Unique Species Observed\")\n",
        "plt.grid(True)\n",
        "plt.tight_layout()\n",
        "plt.show()"
      ],
      "metadata": {
        "id": "EUfxeq9-p1cl"
      },
      "execution_count": null,
      "outputs": []
    },
    {
      "cell_type": "markdown",
      "source": [
        "##### 1. Why did you pick the specific chart?"
      ],
      "metadata": {
        "id": "E6MkPsBcp1cl"
      }
    },
    {
      "cell_type": "markdown",
      "source": [
        "This line plot is used to understand how species count changes as visit frequency increases. It helps reveal whether more visits lead to more comprehensive biodiversity observations."
      ],
      "metadata": {
        "id": "V22bRsFWp1cl"
      }
    },
    {
      "cell_type": "markdown",
      "source": [
        "##### 2. What is/are the insight(s) found from the chart?"
      ],
      "metadata": {
        "id": "2cELzS2fp1cl"
      }
    },
    {
      "cell_type": "markdown",
      "source": [
        "* There is generally a positive trend: more visits are associated with a higher count of unique species.\n",
        "\n",
        "* The curve may level off eventually, suggesting saturation — where additional visits offer diminishing returns in species discovery."
      ],
      "metadata": {
        "id": "ozQPc2_Ip1cl"
      }
    },
    {
      "cell_type": "markdown",
      "source": [
        "##### 3. Will the gained insights help creating a positive business impact?\n",
        "Are there any insights that lead to negative growth? Justify with specific reason."
      ],
      "metadata": {
        "id": "3MPXvC8up1cl"
      }
    },
    {
      "cell_type": "markdown",
      "source": [
        "Absolutely. This finding supports the idea that repeated site visits improve the reliability and completeness of biodiversity data. It justifies allocating budget for longitudinal studies and recurring surveys in conservation programs.\n",
        "\n",
        "It also helps conservation managers design observation frequency protocols — e.g., how many visits are optimal to capture most species without wasting resources. Additionally, it supports citizen science models where volunteers return to the same plots regularly to contribute to data quality.\n",
        "\n",
        "However, once the curve flattens, additional visits yield fewer new species — which indicates a point of diminishing returns. This insight allows for strategic planning to stop or shift efforts when biodiversity capture is saturated at a site."
      ],
      "metadata": {
        "id": "GL8l1tdLp1cl"
      }
    },
    {
      "cell_type": "markdown",
      "source": [
        "### 4.7 Conservation Insights"
      ],
      "metadata": {
        "id": "-R5dw6m5EQyH"
      }
    },
    {
      "cell_type": "markdown",
      "source": [
        "#### 4.7A. Watchlist Species Frequency"
      ],
      "metadata": {
        "id": "NC_X3p0fY2L0"
      }
    },
    {
      "cell_type": "markdown",
      "source": [
        "Top 10 Most Frequently Observed Watchlist Species"
      ],
      "metadata": {
        "id": "cj5cZY7KEiZX"
      }
    },
    {
      "cell_type": "code",
      "source": [
        "# Chart 14 - Top 10 Most Frequently Observed Watchlist Species\n",
        "# Filter only PIF watchlist birds\n",
        "watchlist_df = df[df['PIF_Watchlist_Status'] == True]\n",
        "\n",
        "# Get top 10 watchlist species by count\n",
        "top_watchlist = watchlist_df['Common_Name'].value_counts().head(10)\n",
        "\n",
        "# Plot\n",
        "plt.figure(figsize=(10, 5))\n",
        "sns.barplot(x=top_watchlist.values, y=top_watchlist.index, palette=\"Reds_r\")\n",
        "plt.title(\"Top 10 Watchlist Bird Species Observed\")\n",
        "plt.xlabel(\"Observation Count\")\n",
        "plt.ylabel(\"Watchlist Species\")\n",
        "plt.tight_layout()\n",
        "plt.show()"
      ],
      "metadata": {
        "id": "xyC9zolEZNRQ"
      },
      "execution_count": null,
      "outputs": []
    },
    {
      "cell_type": "markdown",
      "source": [
        "##### 1. Why did you pick the specific chart?"
      ],
      "metadata": {
        "id": "UV0SzAkaZNRQ"
      }
    },
    {
      "cell_type": "markdown",
      "source": [
        "A horizontal bar chart clearly ranks at-risk species based on observation counts. This allows stakeholders to visually prioritize conservation efforts toward species that are both vulnerable and frequently seen in the dataset."
      ],
      "metadata": {
        "id": "DVPuT8LYZNRQ"
      }
    },
    {
      "cell_type": "markdown",
      "source": [
        "##### 2. What is/are the insight(s) found from the chart?"
      ],
      "metadata": {
        "id": "YPEH6qLeZNRQ"
      }
    },
    {
      "cell_type": "markdown",
      "source": [
        "* Certain at-risk bird species appear frequently in observations.\n",
        "\n",
        "* These species are thriving in surveyed areas, or these zones might be critical strongholds for their survival."
      ],
      "metadata": {
        "id": "bfSqtnDqZNRR"
      }
    },
    {
      "cell_type": "markdown",
      "source": [
        "##### 3. Will the gained insights help creating a positive business impact?\n",
        "Are there any insights that lead to negative growth? Justify with specific reason."
      ],
      "metadata": {
        "id": "RBzaAAgNFNGJ"
      }
    },
    {
      "cell_type": "markdown",
      "source": [
        "Yes — this analysis is essential for data-driven conservation planning.\n",
        "\n",
        "By identifying which watchlist species are commonly observed, we can:\n",
        "\n",
        "* Prioritize funding and protection for habitats where these species thrive.\n",
        "\n",
        "* Develop targeted management plans to monitor and support these populations.\n",
        "\n",
        "* Use these species as flagship indicators for ecosystem health and public outreach.\n",
        "\n",
        "Moreover, the visibility of endangered species in tourism zones can promote eco-tourism awareness, but must be handled with care to avoid disturbing sensitive populations."
      ],
      "metadata": {
        "id": "yYyGX_dTFR1i"
      }
    },
    {
      "cell_type": "markdown",
      "source": [
        "#### 4.7B. Regional Stewardship Species Trends"
      ],
      "metadata": {
        "id": "q29F0dvdveiT"
      }
    },
    {
      "cell_type": "markdown",
      "source": [
        "Frequency of Regionally Important Species"
      ],
      "metadata": {
        "id": "w_nbnCcWFqAR"
      }
    },
    {
      "cell_type": "code",
      "source": [
        "# Chart 15 - Frequency of Regionally Important Species\n",
        "# Filter regionally important species\n",
        "steward_df = df[df['Regional_Stewardship_Status'] == True]\n",
        "\n",
        "# Count top 10 stewardship species\n",
        "top_stewards = steward_df['Common_Name'].value_counts().head(10)\n",
        "\n",
        "# Plot\n",
        "plt.figure(figsize=(10, 5))\n",
        "sns.barplot(x=top_stewards.values, y=top_stewards.index, palette=\"Blues_d\")\n",
        "plt.title(\"Top 10 Regionally Important Bird Species\")\n",
        "plt.xlabel(\"Observation Count\")\n",
        "plt.ylabel(\"Stewardship Species\")\n",
        "plt.tight_layout()\n",
        "plt.show()"
      ],
      "metadata": {
        "id": "o58-TEIhveiU"
      },
      "execution_count": null,
      "outputs": []
    },
    {
      "cell_type": "markdown",
      "source": [
        "##### 1. Why did you pick the specific chart?"
      ],
      "metadata": {
        "id": "EXh0U9oCveiU"
      }
    },
    {
      "cell_type": "markdown",
      "source": [
        "This bar chart provides a quick overview of the most frequently observed species with regional conservation importance, helping decision-makers focus regional policies and land-use regulations where they matter most"
      ],
      "metadata": {
        "id": "eMmPjTByveiU"
      }
    },
    {
      "cell_type": "markdown",
      "source": [
        "##### 2. What is/are the insight(s) found from the chart?"
      ],
      "metadata": {
        "id": "22aHeOlLveiV"
      }
    },
    {
      "cell_type": "markdown",
      "source": [
        "* Some regionally significant species are commonly seen, implying their habitat needs are currently being met.\n",
        "\n",
        "* These areas may be core breeding or nesting zones for priority species — valuable ecological real estate."
      ],
      "metadata": {
        "id": "uPQ8RGwHveiV"
      }
    },
    {
      "cell_type": "markdown",
      "source": [
        "##### 3. Will the gained insights help creating a positive business impact?\n",
        "Are there any insights that lead to negative growth? Justify with specific reason."
      ],
      "metadata": {
        "id": "ktJJ8BFTGDZK"
      }
    },
    {
      "cell_type": "markdown",
      "source": [
        "Absolutely. This analysis:\n",
        "\n",
        "* Informs regional conservation planning, ensuring stewardship species receive adequate protection and monitoring.\n",
        "\n",
        "* Enables collaborations with local landowners or park managers to preserve habitats critical to regional biodiversity.\n",
        "\n",
        "* Provides a baseline to measure future success of habitat restoration or policy implementation.\n",
        "\n",
        "Additionally, regionally important species can be featured in public awareness campaigns, acting as local ambassadors for biodiversity efforts — boosting community support and potential funding."
      ],
      "metadata": {
        "id": "yxEUL5SdGIYM"
      }
    },
    {
      "cell_type": "markdown",
      "source": [
        "## **5. Solution to Business Objective**"
      ],
      "metadata": {
        "id": "JcMwzZxoAimU"
      }
    },
    {
      "cell_type": "markdown",
      "source": [
        "#### What do you suggest the client to achieve Business Objective ?\n",
        "Explain Briefly."
      ],
      "metadata": {
        "id": "8G2x9gOozGDZ"
      }
    },
    {
      "cell_type": "markdown",
      "source": [
        "To help stakeholders achieve the business objectives of biodiversity management and conservation planning, the following data-driven solutions are recommended:\n",
        "\n",
        "\n",
        "* Targeted Conservation Planning:\n",
        "Focus efforts on regions and habitats where both watchlist and stewardship species are frequently observed. These zones can act as ecological strongholds and require urgent protection and monitoring.\n",
        "\n",
        "* Habitat-Specific Policies:\n",
        "Promote forest and grassland-specific conservation strategies based on species richness, abundance, and habitat preference patterns discovered through EDA.\n",
        "\n",
        "* Environment-Based Protection:\n",
        "Use insights on climate, elevation, and vegetation type to predict vulnerable zones and allocate resources for restoration or conservation accordingly.\n",
        "\n",
        "* Monitoring Programs:\n",
        "Observer-based trends suggest high variability in effort and coverage. Establish consistent monitoring protocols to reduce data bias and improve quality.\n",
        "\n",
        "* Community Engagement & Eco-Tourism:\n",
        "Leverage high-visibility species and regional icons to develop public awareness and eco-tourism initiatives. Ensure such programs are sustainable and don't negatively impact sensitive species.\n",
        "\n",
        "* Digital Dashboards & Alerts:\n",
        "Convert key insights into interactive dashboards for real-time conservation tracking, stakeholder collaboration, and policy development."
      ],
      "metadata": {
        "id": "pASKb0qOza21"
      }
    },
    {
      "cell_type": "markdown",
      "source": [
        "# **Conclusion**"
      ],
      "metadata": {
        "id": "gCX9965dhzqZ"
      }
    },
    {
      "cell_type": "markdown",
      "source": [
        "The Bird Species Observation Analysis successfully revealed how environmental, behavioral, and spatial factors influence bird diversity and distribution across forest and grassland habitats. Temporal trends highlighted seasonality in species richness, while environmental variables like elevation and vegetation shaped species presence and abundance. Species-specific and conservation-focused insights underscored the importance of habitat specialization, observer bias, and regionally important species.\n",
        "\n",
        "Overall, this project offers a comprehensive framework for informed conservation planning, habitat protection, and biodiversity monitoring — aiding both scientific understanding and practical decision-making. The actionable recommendations derived from EDA can empower stakeholders to make data-backed interventions in wildlife protection, land use, and ecological sustainability."
      ],
      "metadata": {
        "id": "Fjb1IsQkh3yE"
      }
    }
  ]
}